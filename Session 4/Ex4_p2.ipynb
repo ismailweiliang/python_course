{
 "cells": [
  {
   "cell_type": "code",
   "execution_count": 1,
   "metadata": {},
   "outputs": [],
   "source": [
    "import numpy as np\n",
    "import pandas as pd\n",
    "import matplotlib.pyplot as plt"
   ]
  },
  {
   "cell_type": "code",
   "execution_count": 4,
   "metadata": {},
   "outputs": [
    {
     "data": {
      "text/html": [
       "<div>\n",
       "<style scoped>\n",
       "    .dataframe tbody tr th:only-of-type {\n",
       "        vertical-align: middle;\n",
       "    }\n",
       "\n",
       "    .dataframe tbody tr th {\n",
       "        vertical-align: top;\n",
       "    }\n",
       "\n",
       "    .dataframe thead th {\n",
       "        text-align: right;\n",
       "    }\n",
       "</style>\n",
       "<table border=\"1\" class=\"dataframe\">\n",
       "  <thead>\n",
       "    <tr style=\"text-align: right;\">\n",
       "      <th></th>\n",
       "      <th>STATION</th>\n",
       "      <th>DATE</th>\n",
       "      <th>VALUE</th>\n",
       "    </tr>\n",
       "  </thead>\n",
       "  <tbody>\n",
       "    <tr>\n",
       "      <th>0</th>\n",
       "      <td>PUENTE DEL DIABLO</td>\n",
       "      <td>2016-08-01 00:00:00</td>\n",
       "      <td>5.832</td>\n",
       "    </tr>\n",
       "    <tr>\n",
       "      <th>1</th>\n",
       "      <td>PUENTE DEL DIABLO</td>\n",
       "      <td>2016-10-01 00:00:00</td>\n",
       "      <td>6.130</td>\n",
       "    </tr>\n",
       "    <tr>\n",
       "      <th>2</th>\n",
       "      <td>PUENTE DEL DIABLO</td>\n",
       "      <td>2016-10-01 00:00:00</td>\n",
       "      <td>6.130</td>\n",
       "    </tr>\n",
       "    <tr>\n",
       "      <th>3</th>\n",
       "      <td>PUENTE DEL DIABLO</td>\n",
       "      <td>2016-12-01 00:00:00</td>\n",
       "      <td>6.011</td>\n",
       "    </tr>\n",
       "    <tr>\n",
       "      <th>4</th>\n",
       "      <td>PUENTE DEL DIABLO</td>\n",
       "      <td>13/01/2016</td>\n",
       "      <td>5.801</td>\n",
       "    </tr>\n",
       "    <tr>\n",
       "      <th>...</th>\n",
       "      <td>...</td>\n",
       "      <td>...</td>\n",
       "      <td>...</td>\n",
       "    </tr>\n",
       "    <tr>\n",
       "      <th>1174</th>\n",
       "      <td>PUENTE DEL DIABLO</td>\n",
       "      <td>25/09/2020</td>\n",
       "      <td>8.000</td>\n",
       "    </tr>\n",
       "    <tr>\n",
       "      <th>1175</th>\n",
       "      <td>PUENTE DEL DIABLO</td>\n",
       "      <td>28/09/2020</td>\n",
       "      <td>8.300</td>\n",
       "    </tr>\n",
       "    <tr>\n",
       "      <th>1176</th>\n",
       "      <td>PUENTE DEL DIABLO</td>\n",
       "      <td>30/09/2020</td>\n",
       "      <td>8.000</td>\n",
       "    </tr>\n",
       "    <tr>\n",
       "      <th>1177</th>\n",
       "      <td>PUENTE DEL DIABLO</td>\n",
       "      <td>2020-01-10 00:00:00</td>\n",
       "      <td>8.000</td>\n",
       "    </tr>\n",
       "    <tr>\n",
       "      <th>1178</th>\n",
       "      <td>PUENTE DEL DIABLO</td>\n",
       "      <td>2020-02-10 00:00:00</td>\n",
       "      <td>8.000</td>\n",
       "    </tr>\n",
       "  </tbody>\n",
       "</table>\n",
       "<p>1179 rows × 3 columns</p>\n",
       "</div>"
      ],
      "text/plain": [
       "                STATION                 DATE  VALUE\n",
       "0     PUENTE DEL DIABLO  2016-08-01 00:00:00  5.832\n",
       "1     PUENTE DEL DIABLO  2016-10-01 00:00:00  6.130\n",
       "2     PUENTE DEL DIABLO  2016-10-01 00:00:00  6.130\n",
       "3     PUENTE DEL DIABLO  2016-12-01 00:00:00  6.011\n",
       "4     PUENTE DEL DIABLO           13/01/2016  5.801\n",
       "...                 ...                  ...    ...\n",
       "1174  PUENTE DEL DIABLO           25/09/2020  8.000\n",
       "1175  PUENTE DEL DIABLO           28/09/2020  8.300\n",
       "1176  PUENTE DEL DIABLO           30/09/2020  8.000\n",
       "1177  PUENTE DEL DIABLO  2020-01-10 00:00:00  8.000\n",
       "1178  PUENTE DEL DIABLO  2020-02-10 00:00:00  8.000\n",
       "\n",
       "[1179 rows x 3 columns]"
      ]
     },
     "execution_count": 4,
     "metadata": {},
     "output_type": "execute_result"
    }
   ],
   "source": [
    "ws = pd.read_excel('Data/PuenteDiablo.xlsx', skiprows=2, usecols='A,D,F')\n",
    "ws"
   ]
  },
  {
   "cell_type": "code",
   "execution_count": 7,
   "metadata": {},
   "outputs": [
    {
     "data": {
      "text/html": [
       "<div>\n",
       "<style scoped>\n",
       "    .dataframe tbody tr th:only-of-type {\n",
       "        vertical-align: middle;\n",
       "    }\n",
       "\n",
       "    .dataframe tbody tr th {\n",
       "        vertical-align: top;\n",
       "    }\n",
       "\n",
       "    .dataframe thead th {\n",
       "        text-align: right;\n",
       "    }\n",
       "</style>\n",
       "<table border=\"1\" class=\"dataframe\">\n",
       "  <thead>\n",
       "    <tr style=\"text-align: right;\">\n",
       "      <th></th>\n",
       "      <th>DATE_HOUR</th>\n",
       "      <th>STATION</th>\n",
       "      <th>VALUE</th>\n",
       "    </tr>\n",
       "  </thead>\n",
       "  <tbody>\n",
       "    <tr>\n",
       "      <th>0</th>\n",
       "      <td>2016-08-01 06:00:00</td>\n",
       "      <td>PUENTE DEL DIABLO</td>\n",
       "      <td>5.832</td>\n",
       "    </tr>\n",
       "    <tr>\n",
       "      <th>1</th>\n",
       "      <td>2016-10-01 06:00:00</td>\n",
       "      <td>PUENTE DEL DIABLO</td>\n",
       "      <td>6.130</td>\n",
       "    </tr>\n",
       "    <tr>\n",
       "      <th>2</th>\n",
       "      <td>2016-10-01 08:00:00</td>\n",
       "      <td>PUENTE DEL DIABLO</td>\n",
       "      <td>6.130</td>\n",
       "    </tr>\n",
       "    <tr>\n",
       "      <th>3</th>\n",
       "      <td>2016-12-01 08:00:00</td>\n",
       "      <td>PUENTE DEL DIABLO</td>\n",
       "      <td>6.011</td>\n",
       "    </tr>\n",
       "    <tr>\n",
       "      <th>4</th>\n",
       "      <td>2016-01-13 08:00:00</td>\n",
       "      <td>PUENTE DEL DIABLO</td>\n",
       "      <td>5.801</td>\n",
       "    </tr>\n",
       "    <tr>\n",
       "      <th>...</th>\n",
       "      <td>...</td>\n",
       "      <td>...</td>\n",
       "      <td>...</td>\n",
       "    </tr>\n",
       "    <tr>\n",
       "      <th>1174</th>\n",
       "      <td>2020-09-25 06:00:00</td>\n",
       "      <td>PUENTE DEL DIABLO</td>\n",
       "      <td>8.000</td>\n",
       "    </tr>\n",
       "    <tr>\n",
       "      <th>1175</th>\n",
       "      <td>2020-09-28 06:00:00</td>\n",
       "      <td>PUENTE DEL DIABLO</td>\n",
       "      <td>8.300</td>\n",
       "    </tr>\n",
       "    <tr>\n",
       "      <th>1176</th>\n",
       "      <td>2020-09-30 06:00:00</td>\n",
       "      <td>PUENTE DEL DIABLO</td>\n",
       "      <td>8.000</td>\n",
       "    </tr>\n",
       "    <tr>\n",
       "      <th>1177</th>\n",
       "      <td>2020-01-10 06:00:00</td>\n",
       "      <td>PUENTE DEL DIABLO</td>\n",
       "      <td>8.000</td>\n",
       "    </tr>\n",
       "    <tr>\n",
       "      <th>1178</th>\n",
       "      <td>2020-02-10 06:00:00</td>\n",
       "      <td>PUENTE DEL DIABLO</td>\n",
       "      <td>8.000</td>\n",
       "    </tr>\n",
       "  </tbody>\n",
       "</table>\n",
       "<p>1179 rows × 3 columns</p>\n",
       "</div>"
      ],
      "text/plain": [
       "               DATE_HOUR            STATION  VALUE\n",
       "0    2016-08-01 06:00:00  PUENTE DEL DIABLO  5.832\n",
       "1    2016-10-01 06:00:00  PUENTE DEL DIABLO  6.130\n",
       "2    2016-10-01 08:00:00  PUENTE DEL DIABLO  6.130\n",
       "3    2016-12-01 08:00:00  PUENTE DEL DIABLO  6.011\n",
       "4    2016-01-13 08:00:00  PUENTE DEL DIABLO  5.801\n",
       "...                  ...                ...    ...\n",
       "1174 2020-09-25 06:00:00  PUENTE DEL DIABLO  8.000\n",
       "1175 2020-09-28 06:00:00  PUENTE DEL DIABLO  8.300\n",
       "1176 2020-09-30 06:00:00  PUENTE DEL DIABLO  8.000\n",
       "1177 2020-01-10 06:00:00  PUENTE DEL DIABLO  8.000\n",
       "1178 2020-02-10 06:00:00  PUENTE DEL DIABLO  8.000\n",
       "\n",
       "[1179 rows x 3 columns]"
      ]
     },
     "execution_count": 7,
     "metadata": {},
     "output_type": "execute_result"
    }
   ],
   "source": [
    "ws = pd.read_excel('Data/PuenteDiablo.xlsx', skiprows=2, usecols='A,D,E,F',\n",
    "                  parse_dates=[['DATE','HOUR']])\n",
    "ws"
   ]
  },
  {
   "cell_type": "code",
   "execution_count": 8,
   "metadata": {},
   "outputs": [
    {
     "data": {
      "text/html": [
       "<div>\n",
       "<style scoped>\n",
       "    .dataframe tbody tr th:only-of-type {\n",
       "        vertical-align: middle;\n",
       "    }\n",
       "\n",
       "    .dataframe tbody tr th {\n",
       "        vertical-align: top;\n",
       "    }\n",
       "\n",
       "    .dataframe thead th {\n",
       "        text-align: right;\n",
       "    }\n",
       "</style>\n",
       "<table border=\"1\" class=\"dataframe\">\n",
       "  <thead>\n",
       "    <tr style=\"text-align: right;\">\n",
       "      <th></th>\n",
       "      <th>DATE_HOUR</th>\n",
       "      <th>STATION</th>\n",
       "      <th>VALUE</th>\n",
       "    </tr>\n",
       "  </thead>\n",
       "  <tbody>\n",
       "    <tr>\n",
       "      <th>0</th>\n",
       "      <td>2016-08-01 06:00:00</td>\n",
       "      <td>PUENTE DEL DIABLO</td>\n",
       "      <td>5.832</td>\n",
       "    </tr>\n",
       "    <tr>\n",
       "      <th>1</th>\n",
       "      <td>2016-10-01 06:00:00</td>\n",
       "      <td>PUENTE DEL DIABLO</td>\n",
       "      <td>6.130</td>\n",
       "    </tr>\n",
       "    <tr>\n",
       "      <th>2</th>\n",
       "      <td>2016-10-01 08:00:00</td>\n",
       "      <td>PUENTE DEL DIABLO</td>\n",
       "      <td>6.130</td>\n",
       "    </tr>\n",
       "    <tr>\n",
       "      <th>3</th>\n",
       "      <td>2016-12-01 08:00:00</td>\n",
       "      <td>PUENTE DEL DIABLO</td>\n",
       "      <td>6.011</td>\n",
       "    </tr>\n",
       "    <tr>\n",
       "      <th>4</th>\n",
       "      <td>2016-01-13 08:00:00</td>\n",
       "      <td>PUENTE DEL DIABLO</td>\n",
       "      <td>5.801</td>\n",
       "    </tr>\n",
       "  </tbody>\n",
       "</table>\n",
       "</div>"
      ],
      "text/plain": [
       "            DATE_HOUR            STATION  VALUE\n",
       "0 2016-08-01 06:00:00  PUENTE DEL DIABLO  5.832\n",
       "1 2016-10-01 06:00:00  PUENTE DEL DIABLO  6.130\n",
       "2 2016-10-01 08:00:00  PUENTE DEL DIABLO  6.130\n",
       "3 2016-12-01 08:00:00  PUENTE DEL DIABLO  6.011\n",
       "4 2016-01-13 08:00:00  PUENTE DEL DIABLO  5.801"
      ]
     },
     "execution_count": 8,
     "metadata": {},
     "output_type": "execute_result"
    }
   ],
   "source": [
    "ws = pd.read_excel('Data/PuenteDiablo.xlsx', skiprows=2, usecols='A,D,E,F',\n",
    "                  parse_dates=[['DATE','HOUR']])\n",
    "ws.head()"
   ]
  },
  {
   "cell_type": "code",
   "execution_count": 9,
   "metadata": {},
   "outputs": [
    {
     "data": {
      "text/html": [
       "<div>\n",
       "<style scoped>\n",
       "    .dataframe tbody tr th:only-of-type {\n",
       "        vertical-align: middle;\n",
       "    }\n",
       "\n",
       "    .dataframe tbody tr th {\n",
       "        vertical-align: top;\n",
       "    }\n",
       "\n",
       "    .dataframe thead th {\n",
       "        text-align: right;\n",
       "    }\n",
       "</style>\n",
       "<table border=\"1\" class=\"dataframe\">\n",
       "  <thead>\n",
       "    <tr style=\"text-align: right;\">\n",
       "      <th></th>\n",
       "      <th>STATION</th>\n",
       "      <th>VALUE</th>\n",
       "    </tr>\n",
       "    <tr>\n",
       "      <th>DATE_HOUR</th>\n",
       "      <th></th>\n",
       "      <th></th>\n",
       "    </tr>\n",
       "  </thead>\n",
       "  <tbody>\n",
       "    <tr>\n",
       "      <th>2016-08-01 06:00:00</th>\n",
       "      <td>PUENTE DEL DIABLO</td>\n",
       "      <td>5.832</td>\n",
       "    </tr>\n",
       "    <tr>\n",
       "      <th>2016-10-01 06:00:00</th>\n",
       "      <td>PUENTE DEL DIABLO</td>\n",
       "      <td>6.130</td>\n",
       "    </tr>\n",
       "    <tr>\n",
       "      <th>2016-10-01 08:00:00</th>\n",
       "      <td>PUENTE DEL DIABLO</td>\n",
       "      <td>6.130</td>\n",
       "    </tr>\n",
       "    <tr>\n",
       "      <th>2016-12-01 08:00:00</th>\n",
       "      <td>PUENTE DEL DIABLO</td>\n",
       "      <td>6.011</td>\n",
       "    </tr>\n",
       "    <tr>\n",
       "      <th>2016-01-13 08:00:00</th>\n",
       "      <td>PUENTE DEL DIABLO</td>\n",
       "      <td>5.801</td>\n",
       "    </tr>\n",
       "    <tr>\n",
       "      <th>...</th>\n",
       "      <td>...</td>\n",
       "      <td>...</td>\n",
       "    </tr>\n",
       "    <tr>\n",
       "      <th>2020-09-25 06:00:00</th>\n",
       "      <td>PUENTE DEL DIABLO</td>\n",
       "      <td>8.000</td>\n",
       "    </tr>\n",
       "    <tr>\n",
       "      <th>2020-09-28 06:00:00</th>\n",
       "      <td>PUENTE DEL DIABLO</td>\n",
       "      <td>8.300</td>\n",
       "    </tr>\n",
       "    <tr>\n",
       "      <th>2020-09-30 06:00:00</th>\n",
       "      <td>PUENTE DEL DIABLO</td>\n",
       "      <td>8.000</td>\n",
       "    </tr>\n",
       "    <tr>\n",
       "      <th>2020-01-10 06:00:00</th>\n",
       "      <td>PUENTE DEL DIABLO</td>\n",
       "      <td>8.000</td>\n",
       "    </tr>\n",
       "    <tr>\n",
       "      <th>2020-02-10 06:00:00</th>\n",
       "      <td>PUENTE DEL DIABLO</td>\n",
       "      <td>8.000</td>\n",
       "    </tr>\n",
       "  </tbody>\n",
       "</table>\n",
       "<p>1179 rows × 2 columns</p>\n",
       "</div>"
      ],
      "text/plain": [
       "                               STATION  VALUE\n",
       "DATE_HOUR                                    \n",
       "2016-08-01 06:00:00  PUENTE DEL DIABLO  5.832\n",
       "2016-10-01 06:00:00  PUENTE DEL DIABLO  6.130\n",
       "2016-10-01 08:00:00  PUENTE DEL DIABLO  6.130\n",
       "2016-12-01 08:00:00  PUENTE DEL DIABLO  6.011\n",
       "2016-01-13 08:00:00  PUENTE DEL DIABLO  5.801\n",
       "...                                ...    ...\n",
       "2020-09-25 06:00:00  PUENTE DEL DIABLO  8.000\n",
       "2020-09-28 06:00:00  PUENTE DEL DIABLO  8.300\n",
       "2020-09-30 06:00:00  PUENTE DEL DIABLO  8.000\n",
       "2020-01-10 06:00:00  PUENTE DEL DIABLO  8.000\n",
       "2020-02-10 06:00:00  PUENTE DEL DIABLO  8.000\n",
       "\n",
       "[1179 rows x 2 columns]"
      ]
     },
     "execution_count": 9,
     "metadata": {},
     "output_type": "execute_result"
    }
   ],
   "source": [
    "ws = pd.read_excel('Data/PuenteDiablo.xlsx', skiprows=2, usecols='A,D,E,F',\n",
    "                  parse_dates=[['DATE','HOUR']])\n",
    "ws = ws.set_index('DATE_HOUR')\n",
    "ws"
   ]
  },
  {
   "cell_type": "code",
   "execution_count": 10,
   "metadata": {},
   "outputs": [
    {
     "data": {
      "text/plain": [
       "0      5.832\n",
       "1      6.130\n",
       "2      6.130\n",
       "3      6.011\n",
       "4      5.801\n",
       "       ...  \n",
       "495    7.450\n",
       "496    7.690\n",
       "497    7.450\n",
       "498    8.311\n",
       "499    7.700\n",
       "Name: VALUE, Length: 500, dtype: float64"
      ]
     },
     "execution_count": 10,
     "metadata": {},
     "output_type": "execute_result"
    }
   ],
   "source": [
    "ws = pd.read_excel('Data/PuenteDiablo.xlsx', skiprows=2, usecols='A,D,E,F',\n",
    "                  parse_dates=[['DATE','HOUR']])\n",
    "ws.iloc[:500,2]"
   ]
  },
  {
   "cell_type": "code",
   "execution_count": 14,
   "metadata": {},
   "outputs": [
    {
     "data": {
      "text/plain": [
       "DATE_HOUR\n",
       "2016-03-02 08:00:00     5.893\n",
       "2016-03-03 08:00:00    15.416\n",
       "2016-03-13 08:00:00     6.592\n",
       "2016-03-14 08:00:00     6.602\n",
       "2016-03-15 08:00:00     6.424\n",
       "2016-03-16 08:00:00     6.350\n",
       "2016-03-17 08:00:00     6.210\n",
       "2016-03-18 08:00:00     6.345\n",
       "2016-03-19 08:00:00     6.212\n",
       "2016-03-20 08:00:00     6.069\n",
       "2016-03-21 08:00:00     6.279\n",
       "2016-03-22 08:00:00     6.450\n",
       "2016-03-23 08:00:00     6.012\n",
       "2016-03-24 08:00:00     6.253\n",
       "2016-03-25 08:00:00     6.027\n",
       "2016-03-26 08:00:00     5.983\n",
       "2016-03-27 08:00:00     6.003\n",
       "2016-03-28 08:00:00     6.024\n",
       "2016-03-29 07:00:00     6.112\n",
       "2016-03-30 08:00:00     5.935\n",
       "2016-03-31 08:00:00     6.009\n",
       "2016-03-04 08:00:00     5.864\n",
       "2016-03-05 07:00:00     6.344\n",
       "2016-03-06 08:00:00     7.480\n",
       "2016-03-07 08:00:00     6.850\n",
       "2016-03-08 08:00:00     6.819\n",
       "2016-03-09 08:00:00     6.850\n",
       "2016-03-10 08:00:00     6.700\n",
       "2016-03-11 08:00:00     6.450\n",
       "2016-03-12 08:00:00     6.372\n",
       "Name: VALUE, dtype: float64"
      ]
     },
     "execution_count": 14,
     "metadata": {},
     "output_type": "execute_result"
    }
   ],
   "source": [
    "ws = pd.read_excel('Data/PuenteDiablo.xlsx', skiprows=2, usecols='A,D,E,F',\n",
    "                  parse_dates=[['DATE','HOUR']])\n",
    "ws = ws.set_index('DATE_HOUR')\n",
    "ws.loc['2016-03','VALUE']"
   ]
  },
  {
   "cell_type": "code",
   "execution_count": 16,
   "metadata": {},
   "outputs": [
    {
     "data": {
      "text/html": [
       "<div>\n",
       "<style scoped>\n",
       "    .dataframe tbody tr th:only-of-type {\n",
       "        vertical-align: middle;\n",
       "    }\n",
       "\n",
       "    .dataframe tbody tr th {\n",
       "        vertical-align: top;\n",
       "    }\n",
       "\n",
       "    .dataframe thead th {\n",
       "        text-align: right;\n",
       "    }\n",
       "</style>\n",
       "<table border=\"1\" class=\"dataframe\">\n",
       "  <thead>\n",
       "    <tr style=\"text-align: right;\">\n",
       "      <th></th>\n",
       "      <th>STATION</th>\n",
       "      <th>VALUE</th>\n",
       "    </tr>\n",
       "    <tr>\n",
       "      <th>DATE_HOUR</th>\n",
       "      <th></th>\n",
       "      <th></th>\n",
       "    </tr>\n",
       "  </thead>\n",
       "  <tbody>\n",
       "    <tr>\n",
       "      <th>2017-01-01 08:00:00</th>\n",
       "      <td>PUENTE DEL DIABLO</td>\n",
       "      <td>6.390</td>\n",
       "    </tr>\n",
       "    <tr>\n",
       "      <th>2017-02-01 08:00:00</th>\n",
       "      <td>PUENTE DEL DIABLO</td>\n",
       "      <td>6.416</td>\n",
       "    </tr>\n",
       "    <tr>\n",
       "      <th>2017-03-01 08:00:00</th>\n",
       "      <td>PUENTE DEL DIABLO</td>\n",
       "      <td>6.390</td>\n",
       "    </tr>\n",
       "    <tr>\n",
       "      <th>2017-04-01 08:00:00</th>\n",
       "      <td>PUENTE DEL DIABLO</td>\n",
       "      <td>10.000</td>\n",
       "    </tr>\n",
       "    <tr>\n",
       "      <th>2017-05-01 08:00:00</th>\n",
       "      <td>PUENTE DEL DIABLO</td>\n",
       "      <td>26.000</td>\n",
       "    </tr>\n",
       "    <tr>\n",
       "      <th>...</th>\n",
       "      <td>...</td>\n",
       "      <td>...</td>\n",
       "    </tr>\n",
       "    <tr>\n",
       "      <th>2020-09-25 06:00:00</th>\n",
       "      <td>PUENTE DEL DIABLO</td>\n",
       "      <td>8.000</td>\n",
       "    </tr>\n",
       "    <tr>\n",
       "      <th>2020-09-28 06:00:00</th>\n",
       "      <td>PUENTE DEL DIABLO</td>\n",
       "      <td>8.300</td>\n",
       "    </tr>\n",
       "    <tr>\n",
       "      <th>2020-09-30 06:00:00</th>\n",
       "      <td>PUENTE DEL DIABLO</td>\n",
       "      <td>8.000</td>\n",
       "    </tr>\n",
       "    <tr>\n",
       "      <th>2020-01-10 06:00:00</th>\n",
       "      <td>PUENTE DEL DIABLO</td>\n",
       "      <td>8.000</td>\n",
       "    </tr>\n",
       "    <tr>\n",
       "      <th>2020-02-10 06:00:00</th>\n",
       "      <td>PUENTE DEL DIABLO</td>\n",
       "      <td>8.000</td>\n",
       "    </tr>\n",
       "  </tbody>\n",
       "</table>\n",
       "<p>822 rows × 2 columns</p>\n",
       "</div>"
      ],
      "text/plain": [
       "                               STATION   VALUE\n",
       "DATE_HOUR                                     \n",
       "2017-01-01 08:00:00  PUENTE DEL DIABLO   6.390\n",
       "2017-02-01 08:00:00  PUENTE DEL DIABLO   6.416\n",
       "2017-03-01 08:00:00  PUENTE DEL DIABLO   6.390\n",
       "2017-04-01 08:00:00  PUENTE DEL DIABLO  10.000\n",
       "2017-05-01 08:00:00  PUENTE DEL DIABLO  26.000\n",
       "...                                ...     ...\n",
       "2020-09-25 06:00:00  PUENTE DEL DIABLO   8.000\n",
       "2020-09-28 06:00:00  PUENTE DEL DIABLO   8.300\n",
       "2020-09-30 06:00:00  PUENTE DEL DIABLO   8.000\n",
       "2020-01-10 06:00:00  PUENTE DEL DIABLO   8.000\n",
       "2020-02-10 06:00:00  PUENTE DEL DIABLO   8.000\n",
       "\n",
       "[822 rows x 2 columns]"
      ]
     },
     "execution_count": 16,
     "metadata": {},
     "output_type": "execute_result"
    }
   ],
   "source": [
    "ws.loc[ws.index>='2017']"
   ]
  },
  {
   "cell_type": "code",
   "execution_count": 17,
   "metadata": {},
   "outputs": [
    {
     "data": {
      "text/html": [
       "<div>\n",
       "<style scoped>\n",
       "    .dataframe tbody tr th:only-of-type {\n",
       "        vertical-align: middle;\n",
       "    }\n",
       "\n",
       "    .dataframe tbody tr th {\n",
       "        vertical-align: top;\n",
       "    }\n",
       "\n",
       "    .dataframe thead th {\n",
       "        text-align: right;\n",
       "    }\n",
       "</style>\n",
       "<table border=\"1\" class=\"dataframe\">\n",
       "  <thead>\n",
       "    <tr style=\"text-align: right;\">\n",
       "      <th></th>\n",
       "      <th>STATION</th>\n",
       "      <th>VALUE</th>\n",
       "    </tr>\n",
       "    <tr>\n",
       "      <th>DATE_HOUR</th>\n",
       "      <th></th>\n",
       "      <th></th>\n",
       "    </tr>\n",
       "  </thead>\n",
       "  <tbody>\n",
       "    <tr>\n",
       "      <th>2020-12-02 06:00:00</th>\n",
       "      <td>PUENTE DEL DIABLO</td>\n",
       "      <td>21.061</td>\n",
       "    </tr>\n",
       "    <tr>\n",
       "      <th>2020-12-04 06:00:00</th>\n",
       "      <td>PUENTE DEL DIABLO</td>\n",
       "      <td>33.250</td>\n",
       "    </tr>\n",
       "    <tr>\n",
       "      <th>2020-12-05 06:00:00</th>\n",
       "      <td>PUENTE DEL DIABLO</td>\n",
       "      <td>8.480</td>\n",
       "    </tr>\n",
       "    <tr>\n",
       "      <th>2020-12-06 06:00:00</th>\n",
       "      <td>PUENTE DEL DIABLO</td>\n",
       "      <td>8.480</td>\n",
       "    </tr>\n",
       "    <tr>\n",
       "      <th>2020-12-08 06:00:00</th>\n",
       "      <td>PUENTE DEL DIABLO</td>\n",
       "      <td>8.300</td>\n",
       "    </tr>\n",
       "  </tbody>\n",
       "</table>\n",
       "</div>"
      ],
      "text/plain": [
       "                               STATION   VALUE\n",
       "DATE_HOUR                                     \n",
       "2020-12-02 06:00:00  PUENTE DEL DIABLO  21.061\n",
       "2020-12-04 06:00:00  PUENTE DEL DIABLO  33.250\n",
       "2020-12-05 06:00:00  PUENTE DEL DIABLO   8.480\n",
       "2020-12-06 06:00:00  PUENTE DEL DIABLO   8.480\n",
       "2020-12-08 06:00:00  PUENTE DEL DIABLO   8.300"
      ]
     },
     "execution_count": 17,
     "metadata": {},
     "output_type": "execute_result"
    }
   ],
   "source": [
    "ws.sort_index(inplace=True)\n",
    "ws.tail()"
   ]
  },
  {
   "cell_type": "code",
   "execution_count": 19,
   "metadata": {},
   "outputs": [
    {
     "data": {
      "text/html": [
       "<div>\n",
       "<style scoped>\n",
       "    .dataframe tbody tr th:only-of-type {\n",
       "        vertical-align: middle;\n",
       "    }\n",
       "\n",
       "    .dataframe tbody tr th {\n",
       "        vertical-align: top;\n",
       "    }\n",
       "\n",
       "    .dataframe thead th {\n",
       "        text-align: right;\n",
       "    }\n",
       "</style>\n",
       "<table border=\"1\" class=\"dataframe\">\n",
       "  <thead>\n",
       "    <tr style=\"text-align: right;\">\n",
       "      <th></th>\n",
       "      <th>STATION</th>\n",
       "      <th>VALUE</th>\n",
       "    </tr>\n",
       "    <tr>\n",
       "      <th>DATE_HOUR</th>\n",
       "      <th></th>\n",
       "      <th></th>\n",
       "    </tr>\n",
       "  </thead>\n",
       "  <tbody>\n",
       "    <tr>\n",
       "      <th>2018-10-23 08:00:00</th>\n",
       "      <td>PUENTE DEL DIABLO</td>\n",
       "      <td>0.090</td>\n",
       "    </tr>\n",
       "    <tr>\n",
       "      <th>2018-12-09 08:00:00</th>\n",
       "      <td>PUENTE DEL DIABLO</td>\n",
       "      <td>0.101</td>\n",
       "    </tr>\n",
       "    <tr>\n",
       "      <th>2018-08-09 08:00:00</th>\n",
       "      <td>PUENTE DEL DIABLO</td>\n",
       "      <td>0.102</td>\n",
       "    </tr>\n",
       "    <tr>\n",
       "      <th>2018-10-22 08:00:00</th>\n",
       "      <td>PUENTE DEL DIABLO</td>\n",
       "      <td>0.108</td>\n",
       "    </tr>\n",
       "    <tr>\n",
       "      <th>2018-07-09 08:00:00</th>\n",
       "      <td>PUENTE DEL DIABLO</td>\n",
       "      <td>0.117</td>\n",
       "    </tr>\n",
       "    <tr>\n",
       "      <th>...</th>\n",
       "      <td>...</td>\n",
       "      <td>...</td>\n",
       "    </tr>\n",
       "    <tr>\n",
       "      <th>2019-11-02 06:00:00</th>\n",
       "      <td>PUENTE DEL DIABLO</td>\n",
       "      <td>125.000</td>\n",
       "    </tr>\n",
       "    <tr>\n",
       "      <th>2019-02-22 08:00:00</th>\n",
       "      <td>PUENTE DEL DIABLO</td>\n",
       "      <td>134.637</td>\n",
       "    </tr>\n",
       "    <tr>\n",
       "      <th>2020-02-13 06:00:00</th>\n",
       "      <td>PUENTE DEL DIABLO</td>\n",
       "      <td>155.500</td>\n",
       "    </tr>\n",
       "    <tr>\n",
       "      <th>2019-09-02 17:43:00</th>\n",
       "      <td>PUENTE DEL DIABLO</td>\n",
       "      <td>175.000</td>\n",
       "    </tr>\n",
       "    <tr>\n",
       "      <th>2016-02-25 06:00:00</th>\n",
       "      <td>PUENTE DEL DIABLO</td>\n",
       "      <td>200.000</td>\n",
       "    </tr>\n",
       "  </tbody>\n",
       "</table>\n",
       "<p>1179 rows × 2 columns</p>\n",
       "</div>"
      ],
      "text/plain": [
       "                               STATION    VALUE\n",
       "DATE_HOUR                                      \n",
       "2018-10-23 08:00:00  PUENTE DEL DIABLO    0.090\n",
       "2018-12-09 08:00:00  PUENTE DEL DIABLO    0.101\n",
       "2018-08-09 08:00:00  PUENTE DEL DIABLO    0.102\n",
       "2018-10-22 08:00:00  PUENTE DEL DIABLO    0.108\n",
       "2018-07-09 08:00:00  PUENTE DEL DIABLO    0.117\n",
       "...                                ...      ...\n",
       "2019-11-02 06:00:00  PUENTE DEL DIABLO  125.000\n",
       "2019-02-22 08:00:00  PUENTE DEL DIABLO  134.637\n",
       "2020-02-13 06:00:00  PUENTE DEL DIABLO  155.500\n",
       "2019-09-02 17:43:00  PUENTE DEL DIABLO  175.000\n",
       "2016-02-25 06:00:00  PUENTE DEL DIABLO  200.000\n",
       "\n",
       "[1179 rows x 2 columns]"
      ]
     },
     "execution_count": 19,
     "metadata": {},
     "output_type": "execute_result"
    }
   ],
   "source": [
    "ws.sort_values(by='VALUE')"
   ]
  },
  {
   "cell_type": "code",
   "execution_count": 20,
   "metadata": {},
   "outputs": [
    {
     "data": {
      "text/plain": [
       "DATE_HOUR\n",
       "2016-02-20 08:00:00    12.574\n",
       "2017-01-14 08:00:00    13.500\n",
       "2017-02-18 08:00:00    10.426\n",
       "2017-02-24 08:00:00    10.370\n",
       "2017-02-27 08:00:00    12.400\n",
       "                        ...  \n",
       "2020-04-26 06:00:00    10.460\n",
       "2020-04-27 06:00:00    10.860\n",
       "2020-04-28 06:00:00    10.860\n",
       "2020-04-29 06:00:00    10.060\n",
       "2020-05-02 06:00:00    10.284\n",
       "Name: VALUE, Length: 222, dtype: float64"
      ]
     },
     "execution_count": 20,
     "metadata": {},
     "output_type": "execute_result"
    }
   ],
   "source": [
    "ws.loc[(ws.VALUE>10)&(ws.VALUE<15),'VALUE']"
   ]
  },
  {
   "cell_type": "code",
   "execution_count": 21,
   "metadata": {},
   "outputs": [
    {
     "data": {
      "text/html": [
       "<div>\n",
       "<style scoped>\n",
       "    .dataframe tbody tr th:only-of-type {\n",
       "        vertical-align: middle;\n",
       "    }\n",
       "\n",
       "    .dataframe tbody tr th {\n",
       "        vertical-align: top;\n",
       "    }\n",
       "\n",
       "    .dataframe thead th {\n",
       "        text-align: right;\n",
       "    }\n",
       "</style>\n",
       "<table border=\"1\" class=\"dataframe\">\n",
       "  <thead>\n",
       "    <tr style=\"text-align: right;\">\n",
       "      <th></th>\n",
       "      <th>STATION</th>\n",
       "      <th>VALUE(m3/d)</th>\n",
       "    </tr>\n",
       "    <tr>\n",
       "      <th>DATE_HOUR</th>\n",
       "      <th></th>\n",
       "      <th></th>\n",
       "    </tr>\n",
       "  </thead>\n",
       "  <tbody>\n",
       "    <tr>\n",
       "      <th>2016-01-02 08:00:00</th>\n",
       "      <td>PUENTE DEL DIABLO</td>\n",
       "      <td>5.720</td>\n",
       "    </tr>\n",
       "    <tr>\n",
       "      <th>2016-01-03 08:00:00</th>\n",
       "      <td>PUENTE DEL DIABLO</td>\n",
       "      <td>20.550</td>\n",
       "    </tr>\n",
       "    <tr>\n",
       "      <th>2016-01-04 08:00:00</th>\n",
       "      <td>PUENTE DEL DIABLO</td>\n",
       "      <td>5.909</td>\n",
       "    </tr>\n",
       "    <tr>\n",
       "      <th>2016-01-05 08:00:00</th>\n",
       "      <td>PUENTE DEL DIABLO</td>\n",
       "      <td>6.295</td>\n",
       "    </tr>\n",
       "    <tr>\n",
       "      <th>2016-01-06 08:00:00</th>\n",
       "      <td>PUENTE DEL DIABLO</td>\n",
       "      <td>7.450</td>\n",
       "    </tr>\n",
       "    <tr>\n",
       "      <th>...</th>\n",
       "      <td>...</td>\n",
       "      <td>...</td>\n",
       "    </tr>\n",
       "    <tr>\n",
       "      <th>2020-12-02 06:00:00</th>\n",
       "      <td>PUENTE DEL DIABLO</td>\n",
       "      <td>21.061</td>\n",
       "    </tr>\n",
       "    <tr>\n",
       "      <th>2020-12-04 06:00:00</th>\n",
       "      <td>PUENTE DEL DIABLO</td>\n",
       "      <td>33.250</td>\n",
       "    </tr>\n",
       "    <tr>\n",
       "      <th>2020-12-05 06:00:00</th>\n",
       "      <td>PUENTE DEL DIABLO</td>\n",
       "      <td>8.480</td>\n",
       "    </tr>\n",
       "    <tr>\n",
       "      <th>2020-12-06 06:00:00</th>\n",
       "      <td>PUENTE DEL DIABLO</td>\n",
       "      <td>8.480</td>\n",
       "    </tr>\n",
       "    <tr>\n",
       "      <th>2020-12-08 06:00:00</th>\n",
       "      <td>PUENTE DEL DIABLO</td>\n",
       "      <td>8.300</td>\n",
       "    </tr>\n",
       "  </tbody>\n",
       "</table>\n",
       "<p>1179 rows × 2 columns</p>\n",
       "</div>"
      ],
      "text/plain": [
       "                               STATION  VALUE(m3/d)\n",
       "DATE_HOUR                                          \n",
       "2016-01-02 08:00:00  PUENTE DEL DIABLO        5.720\n",
       "2016-01-03 08:00:00  PUENTE DEL DIABLO       20.550\n",
       "2016-01-04 08:00:00  PUENTE DEL DIABLO        5.909\n",
       "2016-01-05 08:00:00  PUENTE DEL DIABLO        6.295\n",
       "2016-01-06 08:00:00  PUENTE DEL DIABLO        7.450\n",
       "...                                ...          ...\n",
       "2020-12-02 06:00:00  PUENTE DEL DIABLO       21.061\n",
       "2020-12-04 06:00:00  PUENTE DEL DIABLO       33.250\n",
       "2020-12-05 06:00:00  PUENTE DEL DIABLO        8.480\n",
       "2020-12-06 06:00:00  PUENTE DEL DIABLO        8.480\n",
       "2020-12-08 06:00:00  PUENTE DEL DIABLO        8.300\n",
       "\n",
       "[1179 rows x 2 columns]"
      ]
     },
     "execution_count": 21,
     "metadata": {},
     "output_type": "execute_result"
    }
   ],
   "source": [
    "ws.rename(columns={'VALUE':'VALUE(m3/d)'},inplace=True)\n",
    "ws"
   ]
  },
  {
   "cell_type": "code",
   "execution_count": 22,
   "metadata": {},
   "outputs": [
    {
     "data": {
      "text/html": [
       "<div>\n",
       "<style scoped>\n",
       "    .dataframe tbody tr th:only-of-type {\n",
       "        vertical-align: middle;\n",
       "    }\n",
       "\n",
       "    .dataframe tbody tr th {\n",
       "        vertical-align: top;\n",
       "    }\n",
       "\n",
       "    .dataframe thead th {\n",
       "        text-align: right;\n",
       "    }\n",
       "</style>\n",
       "<table border=\"1\" class=\"dataframe\">\n",
       "  <thead>\n",
       "    <tr style=\"text-align: right;\">\n",
       "      <th></th>\n",
       "      <th>STATION</th>\n",
       "      <th>VALUE(m3/d)</th>\n",
       "      <th>VALUE(ft3/d)</th>\n",
       "    </tr>\n",
       "    <tr>\n",
       "      <th>DATE_HOUR</th>\n",
       "      <th></th>\n",
       "      <th></th>\n",
       "      <th></th>\n",
       "    </tr>\n",
       "  </thead>\n",
       "  <tbody>\n",
       "    <tr>\n",
       "      <th>2016-01-02 08:00:00</th>\n",
       "      <td>PUENTE DEL DIABLO</td>\n",
       "      <td>5.720</td>\n",
       "      <td>201.999894</td>\n",
       "    </tr>\n",
       "    <tr>\n",
       "      <th>2016-01-03 08:00:00</th>\n",
       "      <td>PUENTE DEL DIABLO</td>\n",
       "      <td>20.550</td>\n",
       "      <td>725.716401</td>\n",
       "    </tr>\n",
       "    <tr>\n",
       "      <th>2016-01-04 08:00:00</th>\n",
       "      <td>PUENTE DEL DIABLO</td>\n",
       "      <td>5.909</td>\n",
       "      <td>208.674366</td>\n",
       "    </tr>\n",
       "    <tr>\n",
       "      <th>2016-01-05 08:00:00</th>\n",
       "      <td>PUENTE DEL DIABLO</td>\n",
       "      <td>6.295</td>\n",
       "      <td>222.305827</td>\n",
       "    </tr>\n",
       "    <tr>\n",
       "      <th>2016-01-06 08:00:00</th>\n",
       "      <td>PUENTE DEL DIABLO</td>\n",
       "      <td>7.450</td>\n",
       "      <td>263.094267</td>\n",
       "    </tr>\n",
       "  </tbody>\n",
       "</table>\n",
       "</div>"
      ],
      "text/plain": [
       "                               STATION  VALUE(m3/d)  VALUE(ft3/d)\n",
       "DATE_HOUR                                                        \n",
       "2016-01-02 08:00:00  PUENTE DEL DIABLO        5.720    201.999894\n",
       "2016-01-03 08:00:00  PUENTE DEL DIABLO       20.550    725.716401\n",
       "2016-01-04 08:00:00  PUENTE DEL DIABLO        5.909    208.674366\n",
       "2016-01-05 08:00:00  PUENTE DEL DIABLO        6.295    222.305827\n",
       "2016-01-06 08:00:00  PUENTE DEL DIABLO        7.450    263.094267"
      ]
     },
     "execution_count": 22,
     "metadata": {},
     "output_type": "execute_result"
    }
   ],
   "source": [
    "ws['VALUE(ft3/d)']=ws['VALUE(m3/d)']/(0.3048**3)\n",
    "ws.head()"
   ]
  },
  {
   "cell_type": "code",
   "execution_count": 26,
   "metadata": {},
   "outputs": [
    {
     "data": {
      "text/plain": [
       "564482.5227296269"
      ]
     },
     "execution_count": 26,
     "metadata": {},
     "output_type": "execute_result"
    }
   ],
   "source": [
    "ws['VALUE(ft3/d)'].sum()"
   ]
  },
  {
   "cell_type": "code",
   "execution_count": 28,
   "metadata": {},
   "outputs": [
    {
     "data": {
      "text/plain": [
       "478.78076567398375"
      ]
     },
     "execution_count": 28,
     "metadata": {},
     "output_type": "execute_result"
    }
   ],
   "source": [
    "ws['VALUE(ft3/d)'].mean()"
   ]
  },
  {
   "cell_type": "code",
   "execution_count": 29,
   "metadata": {},
   "outputs": [
    {
     "data": {
      "text/plain": [
       "307.23760047695066"
      ]
     },
     "execution_count": 29,
     "metadata": {},
     "output_type": "execute_result"
    }
   ],
   "source": [
    "ws['VALUE(ft3/d)'].quantile(0.5)"
   ]
  },
  {
   "cell_type": "code",
   "execution_count": 30,
   "metadata": {},
   "outputs": [
    {
     "data": {
      "text/plain": [
       "590.9611629046964"
      ]
     },
     "execution_count": 30,
     "metadata": {},
     "output_type": "execute_result"
    }
   ],
   "source": [
    "ws['VALUE(ft3/d)'].std()"
   ]
  },
  {
   "cell_type": "code",
   "execution_count": 31,
   "metadata": {},
   "outputs": [
    {
     "data": {
      "text/plain": [
       "349235.09606167115"
      ]
     },
     "execution_count": 31,
     "metadata": {},
     "output_type": "execute_result"
    }
   ],
   "source": [
    "ws['VALUE(ft3/d)'].var()"
   ]
  },
  {
   "cell_type": "code",
   "execution_count": 32,
   "metadata": {},
   "outputs": [
    {
     "data": {
      "text/plain": [
       "Timedelta('1801 days 22:00:00')"
      ]
     },
     "execution_count": 32,
     "metadata": {},
     "output_type": "execute_result"
    }
   ],
   "source": [
    "ws.index.max()-ws.index.min()"
   ]
  },
  {
   "cell_type": "code",
   "execution_count": 34,
   "metadata": {},
   "outputs": [
    {
     "data": {
      "text/plain": [
       "<AxesSubplot:>"
      ]
     },
     "execution_count": 34,
     "metadata": {},
     "output_type": "execute_result"
    },
    {
     "data": {
      "image/png": "[encoded data removed]",
      "text/plain": [
       "<Figure size 432x288 with 1 Axes>"
      ]
     },
     "metadata": {
      "needs_background": "light"
     },
     "output_type": "display_data"
    }
   ],
   "source": [
    "ws['VALUE(ft3/d)'].hist(bins=100)"
   ]
  },
  {
   "cell_type": "code",
   "execution_count": 35,
   "metadata": {},
   "outputs": [
    {
     "data": {
      "text/plain": [
       "<AxesSubplot:xlabel='DATE_HOUR'>"
      ]
     },
     "execution_count": 35,
     "metadata": {},
     "output_type": "execute_result"
    },
    {
     "data": {
      "image/png": "[encoded data removed]",
      "text/plain": [
       "<Figure size 432x288 with 1 Axes>"
      ]
     },
     "metadata": {
      "needs_background": "light"
     },
     "output_type": "display_data"
    }
   ],
   "source": [
    "ws['VALUE(ft3/d)'].plot()"
   ]
  },
  {
   "cell_type": "code",
   "execution_count": 36,
   "metadata": {},
   "outputs": [
    {
     "data": {
      "image/png": "[encoded data removed]",
      "text/plain": [
       "<Figure size 432x288 with 1 Axes>"
      ]
     },
     "metadata": {
      "needs_background": "light"
     },
     "output_type": "display_data"
    }
   ],
   "source": [
    "fig, ax = plt.subplots()\n",
    "ax.bar(ws.index, ws['VALUE(m3/d)'].values, label='Flow')\n",
    "ax.set_xlabel('Date')\n",
    "ax.set_ylabel('Flow(m3/d)')\n",
    "ax.set_title('Flow plot')\n",
    "ax.legend(loc='upper left')\n",
    "plt.show()"
   ]
  },
  {
   "cell_type": "code",
   "execution_count": 37,
   "metadata": {},
   "outputs": [
    {
     "data": {
      "text/html": [
       "<div>\n",
       "<style scoped>\n",
       "    .dataframe tbody tr th:only-of-type {\n",
       "        vertical-align: middle;\n",
       "    }\n",
       "\n",
       "    .dataframe tbody tr th {\n",
       "        vertical-align: top;\n",
       "    }\n",
       "\n",
       "    .dataframe thead th {\n",
       "        text-align: right;\n",
       "    }\n",
       "</style>\n",
       "<table border=\"1\" class=\"dataframe\">\n",
       "  <thead>\n",
       "    <tr style=\"text-align: right;\">\n",
       "      <th></th>\n",
       "      <th>VALUE(m3/d)</th>\n",
       "      <th>VALUE(ft3/d)</th>\n",
       "    </tr>\n",
       "    <tr>\n",
       "      <th>QUANTILE</th>\n",
       "      <th></th>\n",
       "      <th></th>\n",
       "    </tr>\n",
       "  </thead>\n",
       "  <tbody>\n",
       "    <tr>\n",
       "      <th>q25</th>\n",
       "      <td>1860.987</td>\n",
       "      <td>65720.135678</td>\n",
       "    </tr>\n",
       "    <tr>\n",
       "      <th>q50</th>\n",
       "      <td>2247.860</td>\n",
       "      <td>79382.426737</td>\n",
       "    </tr>\n",
       "    <tr>\n",
       "      <th>q70</th>\n",
       "      <td>11875.518</td>\n",
       "      <td>419379.960315</td>\n",
       "    </tr>\n",
       "  </tbody>\n",
       "</table>\n",
       "</div>"
      ],
      "text/plain": [
       "          VALUE(m3/d)   VALUE(ft3/d)\n",
       "QUANTILE                            \n",
       "q25          1860.987   65720.135678\n",
       "q50          2247.860   79382.426737\n",
       "q70         11875.518  419379.960315"
      ]
     },
     "execution_count": 37,
     "metadata": {},
     "output_type": "execute_result"
    }
   ],
   "source": [
    "ws['QUANTILE'] = ['q25' if x<=6.92 else ('q50' if x<8.7 else 'q70')\n",
    "                  for x in ws['VALUE(m3/d)']]\n",
    "ws.groupby(['QUANTILE']).sum()"
   ]
  },
  {
   "cell_type": "code",
   "execution_count": 50,
   "metadata": {},
   "outputs": [],
   "source": [
    "ws.to_csv('Data/WeatherStation.csv')"
   ]
  },
  {
   "cell_type": "code",
   "execution_count": 55,
   "metadata": {},
   "outputs": [
    {
     "name": "stdout",
     "output_type": "stream",
     "text": [
      "Collecting openpyxl\n",
      "  Downloading openpyxl-3.0.5-py2.py3-none-any.whl (242 kB)\n",
      "Collecting jdcal\n",
      "  Downloading jdcal-1.4.1-py2.py3-none-any.whl (9.5 kB)\n",
      "Collecting et-xmlfile\n",
      "  Downloading et_xmlfile-1.0.1.tar.gz (8.4 kB)\n",
      "Building wheels for collected packages: et-xmlfile\n",
      "  Building wheel for et-xmlfile (setup.py): started\n",
      "  Building wheel for et-xmlfile (setup.py): finished with status 'done'\n",
      "  Created wheel for et-xmlfile: filename=et_xmlfile-1.0.1-py3-none-any.whl size=8919 sha256=4944d5e00be8bbb54dcb9d0b3e2b9bf1e8b4d2c4faba9d8e947220148f3a2d64\n",
      "  Stored in directory: c:\\users\\asus\\appdata\\local\\pip\\cache\\wheels\\6e\\df\\38\\abda47b884e3e25f9f9b6430e5ce44c47670758a50c0c51759\n",
      "Successfully built et-xmlfile\n",
      "Installing collected packages: jdcal, et-xmlfile, openpyxl\n",
      "Successfully installed et-xmlfile-1.0.1 jdcal-1.4.1 openpyxl-3.0.5\n",
      "Note: you may need to restart the kernel to use updated packages.\n"
     ]
    }
   ],
   "source": [
    "pip install openpyxl"
   ]
  },
  {
   "cell_type": "code",
   "execution_count": 56,
   "metadata": {},
   "outputs": [],
   "source": [
    "ws.to_excel('Data/WeatherStation.xlsx')"
   ]
  }
 ],
 "metadata": {
  "kernelspec": {
   "display_name": "Python 3",
   "language": "python",
   "name": "python3"
  },
  "language_info": {
   "codemirror_mode": {
    "name": "ipython",
    "version": 3
   },
   "file_extension": ".py",
   "mimetype": "text/x-python",
   "name": "python",
   "nbconvert_exporter": "python",
   "pygments_lexer": "ipython3",
   "version": "3.8.3"
  }
 },
 "nbformat": 4,
 "nbformat_minor": 4
}
